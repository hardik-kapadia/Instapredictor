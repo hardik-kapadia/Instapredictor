{
 "cells": [
  {
   "cell_type": "code",
   "execution_count": 1,
   "metadata": {},
   "outputs": [],
   "source": [
    "import tensorflow as tf\n",
    "import instaloader\n",
    "import cv2\n",
    "from sentiment import SentimentAnalyser\n",
    "import numpy as np\n",
    "import os\n",
    "import math"
   ]
  },
  {
   "cell_type": "code",
   "execution_count": 2,
   "metadata": {},
   "outputs": [],
   "source": [
    "folder = 'Data'"
   ]
  },
  {
   "cell_type": "code",
   "execution_count": 3,
   "metadata": {},
   "outputs": [
    {
     "name": "stderr",
     "output_type": "stream",
     "text": [
      "[nltk_data] Downloading package names to\n",
      "[nltk_data]     C:\\Users\\kapsu\\AppData\\Roaming\\nltk_data...\n",
      "[nltk_data]   Package names is already up-to-date!\n",
      "[nltk_data] Downloading package stopwords to\n",
      "[nltk_data]     C:\\Users\\kapsu\\AppData\\Roaming\\nltk_data...\n",
      "[nltk_data]   Package stopwords is already up-to-date!\n",
      "[nltk_data] Downloading package twitter_samples to\n",
      "[nltk_data]     C:\\Users\\kapsu\\AppData\\Roaming\\nltk_data...\n",
      "[nltk_data]   Package twitter_samples is already up-to-date!\n",
      "[nltk_data] Downloading package averaged_perceptron_tagger to\n",
      "[nltk_data]     C:\\Users\\kapsu\\AppData\\Roaming\\nltk_data...\n",
      "[nltk_data]   Package averaged_perceptron_tagger is already up-to-\n",
      "[nltk_data]       date!\n",
      "[nltk_data] Downloading package vader_lexicon to\n",
      "[nltk_data]     C:\\Users\\kapsu\\AppData\\Roaming\\nltk_data...\n",
      "[nltk_data]   Package vader_lexicon is already up-to-date!\n",
      "[nltk_data] Downloading package punkt to\n",
      "[nltk_data]     C:\\Users\\kapsu\\AppData\\Roaming\\nltk_data...\n",
      "[nltk_data]   Package punkt is already up-to-date!\n"
     ]
    }
   ],
   "source": [
    "se = SentimentAnalyser()"
   ]
  },
  {
   "cell_type": "code",
   "execution_count": 4,
   "metadata": {},
   "outputs": [],
   "source": [
    "L = instaloader.Instaloader()"
   ]
  },
  {
   "cell_type": "code",
   "execution_count": 5,
   "metadata": {},
   "outputs": [],
   "source": [
    "def read_data(folder: str = \"Data/Data\", metadata_ext: str = \".json.xz\"):\n",
    "\n",
    "    images = []\n",
    "    numeric = []\n",
    "    output = []\n",
    "    \n",
    "    count = 0\n",
    "\n",
    "    for inner_folder in os.listdir(folder):\n",
    "        \n",
    "        if count % 100 == 0:\n",
    "            print(f'read {count} rows')\n",
    "            \n",
    "        count += 1\n",
    "\n",
    "        files_in_folder = os.listdir(folder + \"/\" + inner_folder)\n",
    "\n",
    "        image_files = 0\n",
    "\n",
    "        for files in files_in_folder:\n",
    "            if (\n",
    "                files.endswith(\".png\")\n",
    "                or files.endswith(\".jpg\")\n",
    "                or files.endswith(\".jpeg\")\n",
    "            ):\n",
    "                image_files += 1\n",
    "        # print(f\"images: {image_files}\")\n",
    "\n",
    "        for filename in os.listdir(folder + \"/\" + inner_folder):\n",
    "\n",
    "            if filename.endswith(metadata_ext):\n",
    "                post_node = instaloader.structures.load_structure_from_file(\n",
    "                    L.context, os.path.join(folder, inner_folder, filename)\n",
    "                )\n",
    "\n",
    "                post_likes = post_node.likes\n",
    "                post_comments = post_node.comments\n",
    "\n",
    "                profile_followers = post_node.owner_profile.followers\n",
    "\n",
    "                post_caption = post_node.caption\n",
    "\n",
    "                try:\n",
    "                    score_full = se.get_score(post_caption)\n",
    "                    score = score_full[\"compound\"]\n",
    "                except Exception:\n",
    "                    score = 0\n",
    "\n",
    "                for _ in range(image_files):\n",
    "                    output.append(\n",
    "                        np.array(\n",
    "                            [\n",
    "                                post_likes / profile_followers,\n",
    "                                post_comments / profile_followers,\n",
    "                            ]\n",
    "                        )\n",
    "                    )\n",
    "\n",
    "                    numeric.append(score)\n",
    "\n",
    "                continue\n",
    "\n",
    "            img = cv2.imread(os.path.join(folder, inner_folder, filename))\n",
    "\n",
    "            if img is not None:\n",
    "                imgf = cv2.resize(img, (256, 256))\n",
    "                # print(f\"{img.shape} -> {imgf.shape}\")\n",
    "                images.append(imgf)\n",
    "\n",
    "    img_arr = np.array(images)\n",
    "    numeric_arr = np.array(numeric)\n",
    "    output_arr = np.array(output)\n",
    "\n",
    "    return (img_arr, numeric_arr, output_arr)"
   ]
  },
  {
   "cell_type": "code",
   "execution_count": 6,
   "metadata": {},
   "outputs": [
    {
     "name": "stdout",
     "output_type": "stream",
     "text": [
      "read 0 rows\n",
      "read 100 rows\n",
      "read 200 rows\n",
      "read 300 rows\n",
      "read 400 rows\n",
      "read 500 rows\n",
      "read 600 rows\n",
      "read 700 rows\n",
      "read 800 rows\n",
      "read 900 rows\n",
      "read 1000 rows\n",
      "read 1100 rows\n",
      "read 1200 rows\n",
      "read 1300 rows\n",
      "read 1400 rows\n",
      "read 1500 rows\n",
      "read 1600 rows\n",
      "read 1700 rows\n",
      "read 1800 rows\n",
      "read 1900 rows\n",
      "read 2000 rows\n",
      "read 2100 rows\n"
     ]
    }
   ],
   "source": [
    "data = read_data()\n",
    "\n",
    "x_image= np.array(data[0])\n",
    "x_numerical = np.array(data[1])\n",
    "y = np.array(data[2])"
   ]
  },
  {
   "cell_type": "code",
   "execution_count": 7,
   "metadata": {},
   "outputs": [],
   "source": [
    "indices = np.random.permutation(x_image.shape[0])"
   ]
  },
  {
   "cell_type": "code",
   "execution_count": 8,
   "metadata": {},
   "outputs": [
    {
     "data": {
      "text/plain": [
       "4750"
      ]
     },
     "execution_count": 8,
     "metadata": {},
     "output_type": "execute_result"
    }
   ],
   "source": [
    "ratio = math.floor(x_image.shape[0]*0.8)\n",
    "ratio"
   ]
  },
  {
   "cell_type": "code",
   "execution_count": 9,
   "metadata": {},
   "outputs": [],
   "source": [
    "train_idx, test_idx = indices[:ratio],indices[ratio:]"
   ]
  },
  {
   "cell_type": "code",
   "execution_count": 10,
   "metadata": {},
   "outputs": [],
   "source": [
    "x_image_train,x_image_test= x_image[train_idx],x_image[test_idx]"
   ]
  },
  {
   "cell_type": "code",
   "execution_count": 11,
   "metadata": {},
   "outputs": [],
   "source": [
    "x_numerical_train, x_numerical_test = x_numerical[train_idx],x_numerical[test_idx]"
   ]
  },
  {
   "cell_type": "code",
   "execution_count": 12,
   "metadata": {},
   "outputs": [],
   "source": [
    "y_train, y_test = y[train_idx],y[test_idx]"
   ]
  },
  {
   "cell_type": "code",
   "execution_count": 13,
   "metadata": {},
   "outputs": [
    {
     "data": {
      "text/plain": [
       "(4750, 256, 256, 3)"
      ]
     },
     "execution_count": 13,
     "metadata": {},
     "output_type": "execute_result"
    }
   ],
   "source": [
    "x_image_train.shape"
   ]
  },
  {
   "cell_type": "code",
   "execution_count": 14,
   "metadata": {},
   "outputs": [
    {
     "data": {
      "text/plain": [
       "(4750,)"
      ]
     },
     "execution_count": 14,
     "metadata": {},
     "output_type": "execute_result"
    }
   ],
   "source": [
    "x_numerical_train.shape"
   ]
  },
  {
   "cell_type": "code",
   "execution_count": 15,
   "metadata": {},
   "outputs": [
    {
     "data": {
      "text/plain": [
       "array([ 0.    , -0.2714,  0.9378,  0.6169,  0.989 ,  0.9488,  0.5106,\n",
       "        0.7506,  0.7883,  0.9944])"
      ]
     },
     "execution_count": 15,
     "metadata": {},
     "output_type": "execute_result"
    }
   ],
   "source": [
    "x_numerical_train[:10]"
   ]
  },
  {
   "cell_type": "code",
   "execution_count": 16,
   "metadata": {},
   "outputs": [
    {
     "data": {
      "text/plain": [
       "(4750, 2)"
      ]
     },
     "execution_count": 16,
     "metadata": {},
     "output_type": "execute_result"
    }
   ],
   "source": [
    "y_train.shape"
   ]
  },
  {
   "cell_type": "code",
   "execution_count": 17,
   "metadata": {},
   "outputs": [],
   "source": [
    "# Define the input layers\n",
    "numerical_input = tf.keras.layers.Input(shape=(1,))\n",
    "image_input = tf.keras.layers.Input(shape=(256, 256, 3))"
   ]
  },
  {
   "cell_type": "code",
   "execution_count": 18,
   "metadata": {},
   "outputs": [],
   "source": [
    "# Define the numerical input processing layer\n",
    "numerical_layer = tf.keras.layers.Dense(12, activation='relu')(numerical_input)"
   ]
  },
  {
   "cell_type": "code",
   "execution_count": 19,
   "metadata": {},
   "outputs": [],
   "source": [
    "# Define the image input processing layers\n",
    "image_layer = tf.keras.layers.Conv2D(128, (16, 16), activation='relu')(image_input)\n",
    "image_layer = tf.keras.layers.MaxPooling2D(pool_size=(12, 12))(image_layer)\n",
    "image_layer = tf.keras.layers.Flatten()(image_layer)"
   ]
  },
  {
   "cell_type": "code",
   "execution_count": 20,
   "metadata": {},
   "outputs": [],
   "source": [
    "# Concatenate the processed inputs\n",
    "concatenated_inputs = tf.keras.layers.concatenate([numerical_layer, image_layer])"
   ]
  },
  {
   "cell_type": "code",
   "execution_count": 21,
   "metadata": {},
   "outputs": [],
   "source": [
    "# Define the output layer\n",
    "output_layer = tf.keras.layers.Dense(2)(concatenated_inputs)"
   ]
  },
  {
   "cell_type": "code",
   "execution_count": 22,
   "metadata": {},
   "outputs": [],
   "source": [
    "# Define the model\n",
    "model = tf.keras.models.Model(inputs=[numerical_input, image_input], outputs=output_layer)"
   ]
  },
  {
   "cell_type": "code",
   "execution_count": 23,
   "metadata": {},
   "outputs": [],
   "source": [
    "# Compile the model\n",
    "model.compile(optimizer='adam', loss='mse')"
   ]
  },
  {
   "cell_type": "code",
   "execution_count": 24,
   "metadata": {},
   "outputs": [],
   "source": [
    "checkpoint_path = \"training_1/cp.ckpt\"\n",
    "checkpoint_dir = os.path.dirname(checkpoint_path)"
   ]
  },
  {
   "cell_type": "code",
   "execution_count": 25,
   "metadata": {},
   "outputs": [
    {
     "data": {
      "image/png": "[encoded data removed]",
      "text/plain": [
       "<IPython.core.display.Image object>"
      ]
     },
     "execution_count": 25,
     "metadata": {},
     "output_type": "execute_result"
    }
   ],
   "source": [
    "tf.keras.utils.plot_model(\n",
    "model,\n",
    "to_file=\"model.png\",\n",
    "show_shapes=True,\n",
    "show_dtype=False,\n",
    "show_layer_names=True,\n",
    "rankdir=\"TB\",\n",
    "expand_nested=True,\n",
    "dpi=96,\n",
    "layer_range=None,\n",
    "show_layer_activations=True,\n",
    ")"
   ]
  },
  {
   "cell_type": "code",
   "execution_count": 26,
   "metadata": {},
   "outputs": [],
   "source": [
    "model_callback = tf.keras.callbacks.ModelCheckpoint(filepath=checkpoint_path,save_weights_only=True,verbose=1)"
   ]
  },
  {
   "cell_type": "code",
   "execution_count": 27,
   "metadata": {},
   "outputs": [
    {
     "name": "stdout",
     "output_type": "stream",
     "text": [
      "Epoch 1/10\n",
      "75/75 [==============================] - ETA: 0s - loss: 136244.9219 \n",
      "Epoch 1: saving model to training_1\\cp.ckpt\n",
      "75/75 [==============================] - 1338s 18s/step - loss: 136244.9219\n",
      "Epoch 2/10\n",
      "75/75 [==============================] - ETA: 0s - loss: 0.3247 \n",
      "Epoch 2: saving model to training_1\\cp.ckpt\n",
      "75/75 [==============================] - 951s 13s/step - loss: 0.3247\n",
      "Epoch 3/10\n",
      "75/75 [==============================] - ETA: 0s - loss: 0.2374 \n",
      "Epoch 3: saving model to training_1\\cp.ckpt\n",
      "75/75 [==============================] - 942s 13s/step - loss: 0.2374\n",
      "Epoch 4/10\n",
      "75/75 [==============================] - ETA: 0s - loss: 0.1323 \n",
      "Epoch 4: saving model to training_1\\cp.ckpt\n",
      "75/75 [==============================] - 944s 13s/step - loss: 0.1323\n",
      "Epoch 5/10\n",
      "75/75 [==============================] - ETA: 0s - loss: 0.0832 \n",
      "Epoch 5: saving model to training_1\\cp.ckpt\n",
      "75/75 [==============================] - 1037s 14s/step - loss: 0.0832\n",
      "Epoch 6/10\n",
      "75/75 [==============================] - ETA: 0s - loss: 0.0541 \n",
      "Epoch 6: saving model to training_1\\cp.ckpt\n",
      "75/75 [==============================] - 1090s 15s/step - loss: 0.0541\n",
      "Epoch 7/10\n",
      "75/75 [==============================] - ETA: 0s - loss: 0.0366 \n",
      "Epoch 7: saving model to training_1\\cp.ckpt\n",
      "75/75 [==============================] - 991s 13s/step - loss: 0.0366\n",
      "Epoch 8/10\n",
      "75/75 [==============================] - ETA: 0s - loss: 0.0367 \n",
      "Epoch 8: saving model to training_1\\cp.ckpt\n",
      "75/75 [==============================] - 957s 13s/step - loss: 0.0367\n",
      "Epoch 9/10\n",
      "75/75 [==============================] - ETA: 0s - loss: 0.0288 \n",
      "Epoch 9: saving model to training_1\\cp.ckpt\n",
      "75/75 [==============================] - 983s 13s/step - loss: 0.0288\n",
      "Epoch 10/10\n",
      "75/75 [==============================] - ETA: 0s - loss: 0.0227 \n",
      "Epoch 10: saving model to training_1\\cp.ckpt\n",
      "75/75 [==============================] - 1001s 13s/step - loss: 0.0227\n"
     ]
    },
    {
     "data": {
      "text/plain": [
       "<keras.callbacks.History at 0x1ad36eb99a0>"
      ]
     },
     "execution_count": 27,
     "metadata": {},
     "output_type": "execute_result"
    }
   ],
   "source": [
    "# Train the model\n",
    "model.fit([x_numerical_train, x_image_train], y_train, epochs=10, batch_size=64, callbacks=model_callback,use_multiprocessing=True)"
   ]
  },
  {
   "cell_type": "code",
   "execution_count": 28,
   "metadata": {},
   "outputs": [
    {
     "name": "stdout",
     "output_type": "stream",
     "text": [
      "38/38 [==============================] - 86s 2s/step - loss: 0.1671\n"
     ]
    },
    {
     "data": {
      "text/plain": [
       "0.16705937683582306"
      ]
     },
     "execution_count": 28,
     "metadata": {},
     "output_type": "execute_result"
    }
   ],
   "source": [
    "model.evaluate([x_numerical_test,x_image_test],y_test)"
   ]
  },
  {
   "cell_type": "code",
   "execution_count": 31,
   "metadata": {},
   "outputs": [
    {
     "name": "stderr",
     "output_type": "stream",
     "text": [
      "WARNING:absl:Found untraced functions such as _jit_compiled_convolution_op while saving (showing 1 of 1). These functions will not be directly callable after loading.\n"
     ]
    },
    {
     "name": "stdout",
     "output_type": "stream",
     "text": [
      "INFO:tensorflow:Assets written to: models/insta\\assets\n"
     ]
    },
    {
     "name": "stderr",
     "output_type": "stream",
     "text": [
      "INFO:tensorflow:Assets written to: models/insta\\assets\n"
     ]
    }
   ],
   "source": [
    "model.save('models/insta')"
   ]
  },
  {
   "cell_type": "code",
   "execution_count": 37,
   "metadata": {},
   "outputs": [],
   "source": [
    "model2 = tf.keras.models.load_model('models/insta/')"
   ]
  },
  {
   "cell_type": "code",
   "execution_count": 38,
   "metadata": {},
   "outputs": [
    {
     "name": "stdout",
     "output_type": "stream",
     "text": [
      "38/38 [==============================] - 78s 2s/step - loss: 0.1671\n"
     ]
    },
    {
     "data": {
      "text/plain": [
       "0.16705937683582306"
      ]
     },
     "execution_count": 38,
     "metadata": {},
     "output_type": "execute_result"
    }
   ],
   "source": [
    "model2.evaluate([x_numerical_test,x_image_test],y_test)"
   ]
  }
 ],
 "metadata": {
  "kernelspec": {
   "display_name": "mlai",
   "language": "python",
   "name": "python3"
  },
  "language_info": {
   "codemirror_mode": {
    "name": "ipython",
    "version": 3
   },
   "file_extension": ".py",
   "mimetype": "text/x-python",
   "name": "python",
   "nbconvert_exporter": "python",
   "pygments_lexer": "ipython3",
   "version": "3.9.16"
  },
  "orig_nbformat": 4
 },
 "nbformat": 4,
 "nbformat_minor": 2
}
